{
 "cells": [
  {
   "cell_type": "code",
   "execution_count": null,
   "metadata": {},
   "outputs": [],
   "source": [
    "# https://dzone.com/articles/exporting-data-from-pdfs-with-python\n",
    "# simple pdfminer\n",
    "# http://survivalengineer.blogspot.com/2014/04/parsing-pdfs-in-python.html\n",
    "# https://github.com/pdfminer/pdfminer.six"
   ]
  },
  {
   "cell_type": "code",
   "execution_count": 18,
   "metadata": {},
   "outputs": [],
   "source": [
    "from fpdf import FPDF\n",
    "import PyPDF2\n",
    "from PIL import Image\n",
    "\n",
    "import sys\n",
    "from pdfminer.pdfparser import PDFParser\n",
    "from pdfminer.pdfdocument import PDFDocument\n",
    "from pdfminer.pdfpage import PDFPage\n",
    "from pdfminer.pdfpage import PDFTextExtractionNotAllowed\n",
    "from pdfminer.pdfinterp import PDFResourceManager\n",
    "from pdfminer.pdfinterp import PDFPageInterpreter\n",
    "from io import StringIO\n",
    "from pdfminer.layout import LAParams\n",
    "from pdfminer.converter import TextConverter\n"
   ]
  },
  {
   "cell_type": "code",
   "execution_count": 11,
   "metadata": {},
   "outputs": [
    {
     "data": {
      "text/plain": [
       "''"
      ]
     },
     "execution_count": 11,
     "metadata": {},
     "output_type": "execute_result"
    }
   ],
   "source": [
    "pdf = FPDF()\n",
    "imagelist = ['pdf1_to_read.jpg']\n",
    "for image in imagelist:\n",
    "    pdf.add_page()\n",
    "    pdf.image(image,0,0,200,250)\n",
    "pdf.output(\"real_pdf.pdf\", \"F\")"
   ]
  },
  {
   "cell_type": "code",
   "execution_count": 19,
   "metadata": {},
   "outputs": [
    {
     "data": {
      "text/plain": [
       "9"
      ]
     },
     "execution_count": 19,
     "metadata": {},
     "output_type": "execute_result"
    }
   ],
   "source": [
    "pdfFileObj = open('4824-imagenet-classification-with-deep-convolutional-neural-networks.pdf', 'rb')\n",
    "pdfReader = PyPDF2.PdfFileReader(pdfFileObj)\n",
    "pages = pdfReader.numPages\n",
    "pageObj = pdfReader.getPage(0)\n",
    "text = pageObj.extractText()\n",
    "pages # text"
   ]
  },
  {
   "cell_type": "code",
   "execution_count": null,
   "metadata": {},
   "outputs": [],
   "source": []
  },
  {
   "cell_type": "code",
   "execution_count": 31,
   "metadata": {},
   "outputs": [],
   "source": [
    "import io\n",
    "from pdfminer.converter import TextConverter\n",
    "from pdfminer.pdfinterp import PDFPageInterpreter\n",
    "from pdfminer.pdfinterp import PDFResourceManager\n",
    "from pdfminer.pdfpage import PDFPage\n",
    "def extract_text_by_page(pdf_path):\n",
    "    with open(pdf_path, 'rb') as fh:\n",
    "        for page in PDFPage.get_pages(fh, \n",
    "                                      caching=True,\n",
    "                                      check_extractable=True):\n",
    "            resource_manager = PDFResourceManager()\n",
    "            fake_file_handle = io.StringIO()\n",
    "            converter = TextConverter(resource_manager, fake_file_handle)\n",
    "            page_interpreter = PDFPageInterpreter(resource_manager, converter)\n",
    "            page_interpreter.process_page(page)\n",
    "            text = fake_file_handle.getvalue()\n",
    "            yield text\n",
    "            # close open handles\n",
    "            converter.close()\n",
    "            fake_file_handle.close()\n",
    "def extract_text(pdf_path):\n",
    "    for page in extract_text_by_page(pdf_path):\n",
    "        print(page)\n",
    "        print()"
   ]
  },
  {
   "cell_type": "code",
   "execution_count": 34,
   "metadata": {},
   "outputs": [],
   "source": [
    "import io\n",
    "from pdfminer.converter import TextConverter\n",
    "from pdfminer.pdfinterp import PDFPageInterpreter\n",
    "from pdfminer.pdfinterp import PDFResourceManager\n",
    "from pdfminer.pdfpage import PDFPage\n",
    "def extract_text_from_pdf(pdf_path):\n",
    "    resource_manager = PDFResourceManager()\n",
    "    fake_file_handle = io.StringIO()\n",
    "    converter = TextConverter(resource_manager, fake_file_handle)\n",
    "    page_interpreter = PDFPageInterpreter(resource_manager, converter)\n",
    "    with open(pdf_path, 'rb') as fh:\n",
    "        for page in PDFPage.get_pages(fh, \n",
    "                                      caching=True,\n",
    "                                      check_extractable=True):\n",
    "            page_interpreter.process_page(page)\n",
    "        text = fake_file_handle.getvalue()\n",
    "    # close open handles\n",
    "    converter.close()\n",
    "    fake_file_handle.close()\n",
    "    if text:\n",
    "        return text"
   ]
  },
  {
   "cell_type": "code",
   "execution_count": 35,
   "metadata": {},
   "outputs": [],
   "source": [
    "import json\n",
    "import os\n",
    "# from miner_text_generator import extract_text_by_page\n",
    "\n",
    "def export_as_json(pdf_path, json_path):\n",
    "    filename = os.path.splitext(os.path.basename(pdf_path))[0]\n",
    "    data = {'Filename': filename}\n",
    "    data['Pages'] = []\n",
    "    counter = 1\n",
    "    for page in extract_text_by_page(pdf_path):\n",
    "        text = page[0:100]\n",
    "        page = {'Page_{}'.format(counter): text}\n",
    "        data['Pages'].append(page)\n",
    "        counter += 1\n",
    "    with open(json_path, 'w') as fh:\n",
    "        json.dump(data, fh)"
   ]
  },
  {
   "cell_type": "code",
   "execution_count": 38,
   "metadata": {},
   "outputs": [
    {
     "data": {
      "text/plain": [
       "'018786 PDI0183618A9TT50I0183618A9TI0183618A9TH01836249XX01836249HS018787 PDI01836189TDA0183618B9TI01836199TDA0183619A9TI0183619B9TI50I0183619A9TH0183619A9TT50I0183622A9TH0183622A9TI0183622A9TT0183622B9TI01836229TDA0183615A9TH0183615A9TI0183615A9TT50I0183615B9TI01836159TDA0183621B9TI01836219TDA50 I 0183621A9TI0183621A9TH0183621A9TT01836239TDA0183623A9TT0183623A9TH50 I 0183623A9TI0183623B9TI018793 TW018788 PDI018794 TW018789  PDII018 HS50 I6464 2131946720213321N 6740 2131946741 213286MDO6742 213286 MDO6743 2132026744 213286 MDO 6745 213286 MDO 6739 213195DO NOT POCKET SELF DRAININGRSSELF DRAINING DO NOT POCKET RSMIN.. 1DELETED.. 2HIGH HIGH LEVEL IN SUCTION DRUMS AND SIGNAL FROMCOMPRESSOR AUXILARY CAUSES COMPRESSOR SHUTDOWN.. 3FOR COMPRESSOR AUXILIARIES, SEE DRAWING YC-213357TO YC-213380.. 4N2 CONNECTION FOR COMPRESSOR PURGING.. 5DETAILS OF COMPRESSOR CAPACITY CONTROL SYSTEM TO BEAS PER COMPRESSOR VENDOR DATA.. 6ALL LINE NUMBERS, SPECIALTY ITEMS (SP) AND NON-DCS(LOCAL) INSTRUMENT TAG NUMBERS SHALL BE PREFIXED WITH\"018\". ALL INSTRUMENT TAG NUMBERS IN DCS LOOP SHALL BEPREFIXED WITH \"9\".RSDO NOT POCKETSELF DRAINING. 7DELETED.. 8START-UP STRAINER MESH PROVIDED WITH COMPRESSOR.REMOVABLE SPOOL PROVIDED BY JACOBS.. 9DELETED.. 10DELETED.. 11DELETED.. 12COMPRESSOR CYLINDER TO PROVIDE ACCESS TO KEINE VALVEFOR PERFORMANCE MEASUREMENT AND MAINTENANCE.. 13DESIGN TRACING TO MAINTAIN PIPEWALL TEMPERATURE 130° F(10 DEG. ABOVE THE PROCESS TEMP).. 14COMPRESSOR SUCTION BOTTLES TO BE TRACED AND INSULATED.. 15LINE TO BE CHEMICALLY CLEANED.ISSUED FOR AS-BUILTSMARTPLANT CONVERSION4 5S 02/24/13 09/02/11 RSVENDORJACOBS 25282-8B5-M6-018-00121 4500NONE3/14/2007 SVK SM CS 5S213193 HCU2PIPING & INSTRUMENTATION DIAGRAM018CP104505S213193MU H2 COMPRESSOR018VES36570 018VES36571018VES36573018VES36572018VES36567018VES36569018VES36568 018VES36566018CP10450 14HC-3.0 \"-EP018-H-00737-10\"-6CB1S854 8DESIGN FLOW:SP. GRAVITY:TRIM SPEC:TRIM REF:MAKE-UP HYDROGEN COMPRESSOR  /   /INSUL TYPE / PURP / THK: MATERIAL:DRIVER:2097.00 psiDIFF PRESS: RATED CAPACITY:018CP104503/4\" 3/4\"1415 1315 13HC-3.0 \"-EP018-H-00760-8\"-6CB1S8510\"x8\"4 43/4\" 3/4\"EP8NI- -018-N-03007-2\"-1CS1S011CS1S01 6CB1S85 3/4\"EPNINI- -018-H-03483-2\"-6CB1S8514 8 6\"x4\"8\"x6\" 15 133/4\"3/4\" 2\"2\" EPHC-3.0 \"-EP018-H-00763-8\"-9CB1S85412 1212B H BHB H512 1212 BH BH1448\"x6\"6\"x4\"8EP PP-1.5 \"-018-H-00761-8\"-9CB1S85HYDROGENTO 018EXF018B H S/STRIPSTATUS B2STOPPP-1.5 \"-018-H-00767-8\"-6CB1S8510\"x8\"HYDROGENTO 018EXF015 PP-1.5 \"-018-P-04435-2\"-9CB1S853/4\"HC-1.5 \"-EP018-MDO-03142-2\"-1CB2S011CB2S019CB1S85PP-1.5 \"HYDROGENFROM 018VES36538(MIN): 6CB1S85TRIM SPEC: H-04442-6CB1S85-HCTRIM REF:   /   /1200.0 psi-g @ 350 F  @4 \\'  2 \" OD x 11 \\'  0 \" T/TINSUL TYPE / PURP / THK: MATERIAL:DESIGN PRESS & TEMP (MAX): DRUM SIZE: 1ST STG. SUC. DAMP.018VES36570PP-1.5 \"-018-P-04432-2\"-6CB1S85HC-1.5 \"-EP018-MDO-03136-2\"-1CB2S01PP-1.5 \"6CB1S851CB2S013/4\"HC-1.5 \"-018-H-00742-8\"-15CB1S858\"x6\" 6\"x4\"HYDROGENTO COMMONCOMPRESSOR DISCHARGEPP-1.5 \"- 018-P-04188-2\"-15CB1S85 HC-1.5 \"-EP018-MDO-03138-2\"-1CB2S013/4\"6\"x4\"(MIN): 9CB1S85TRIM SPEC: H-04444-9CB1S85-HCTRIM REF:   /   / 1930.0 psi-g @ 350 F  @3 \\'  2 \" OD x 10 \\'  5 \" T/TINSUL TYPE / PURP / THK: MATERIAL:DESIGN PRESS & TEMP (MAX): DRUM SIZE: 3RD STG. SUC. DAMP.018VES36572(MIN): 6CB1S85TRIM SPEC: H-04438-6CB1S85-HCTRIM REF:   /   /1200.0 psi-g @ 350 F  @3 \\'  10 \" OD x 10 \\'  5 \" T/TINSUL TYPE / PURP / THK: MATERIAL:DESIGN PRESS & TEMP (MAX): DRUM SIZE: 1ST STG. DISC. DAMP.018VES36566(MIN): 9CB1S85TRIM SPEC:  H-04439-9CB1S85-HCTRIM REF:   /   /1930.0 psi-g @ 350 F  @3 \\'  4 \" OD x 10 \\'  9 \" T/TINSUL TYPE / PURP / THK: MATERIAL:DESIGN PRESS & TEMP (MAX): DRUM SIZE: 2ND STG. DISC. DAMP.018VES36567(MIN): 15CB1S85TRIM SPEC: H-04440-15CB1S85-HCTRIM REF:   /   /3000.0 psi-g @ 350 F  @3 \\'  0 \" OD x 9 \\'  11 \" T/TINSUL TYPE / PURP / THK: MATERIAL:DESIGN PRESS & TEMP (MAX): DRUM SIZE: 3RD STG. DISC. DAMP.018VES365688\"x6\"HC-1.5 \"-EP018-MDO-03140-2\"-1CB2S0115CB1S851CB2S01PP-1.5 \"3/4\"PP-1.5 \" 1CB2S0115CB1S85 PP-1.5 \"-018-P-04191-2\"-15CB1S85JOB NO.BY DESCRIPTION DATE REV CHARGESAFETY---A LIFETIME COMMITMENT F EDSAFETY---A LIFETIME COMMITMENT CB YC-A1 REVISION2 3 4 5 SAFETY---A LIFETIME COMMITMENTDATES CHKED BY: DRAWN BY: DESIGN BY: YC- SPPID REV 0REVISIONAND TRACINGRECORD ENTEREDNUMBER ASSIGNEDSCALE: DATE6 7 8 9 SAFETY---A LIFETIME COMMITMENTREFERENCE DRAWINGS10NOTESNOTECOPYRIGHT MOTIVA ENTERPRISES LLC 2007-2008.  THIS DRAWING AND THE INFORMATIONHEREIN CONTAINED ARE THE PROPERTY OF MOTIVA ENTERPRISES WHICH HAS FURNISHED THEMIN CONFIDENCE UPON THE UNDERSTANDING AND CONDITION THAT ALL PERSONS, FIRMS ORCORPORATIONS RECEIVING SUCH DRAWING AND INFORMATION SHALL BY THE ACT OF RECEIVINGTHEM BE DEEMED TO HAVE AGREED: TO MAKE NO COPY, DUPLICATION, DISCLOSURE OR USEWHATSOEVER OF ALL OR ANY PART THEREOF EXCEPT AS EXPRESSLY AUTHORIZED IN WRITINGBY MOTIVA ENTERPRISES; NOT TO GIVE, LEND OR OTHERWISE DISPOSE OF THIS DRAWING; ANDc CONFIDENTIALCHARGE: TO RETURN THIS DRAWING PROMPTLY UPON REQUEST.STG 2CYLINDER#1STG 2CYLINDER#3STG 3CYLINDER#5STG 3CYLINDER#6 STG 1CYLINDER#4STG 1CYLINDER#2C2C2 (MIN): 15CB1S85TRIM SPEC:  H-04441-15CB1S85-HCTRIM REF:   /   /3000.0 psi-g @ 350 F  @3 \\'  0 \" OD x 9 \\'  11 \" T/TINSUL TYPE / PURP / THK: MATERIAL:DESIGN PRESS & TEMP (MAX): DRUM SIZE: 3RD STG. DISC. DAMP.018VES36569C2 (MIN): 6CB1S85TRIM SPEC: H-04443-6CB1S85-HCTRIM REF:   /   /1200.0 psi-g @ 350 F  @3 \\'  10 \" OD x 10 \\'  7 \" T/TINSUL TYPE / PURP / THK: MATERIAL:DESIGN PRESS & TEMP (MAX): DRUM SIZE: 2ND STG. SUC. DAMP.018VES365717519 213192HYDROGENFROM 018VES365377307 213195FROM 018VES36541HYDROGEN(MIN): 9CB1S85TRIM SPEC: H-04445-9CB1S85-HCTRIM REF:   /   / 1930.0 psi-g @ 350 F  @3 \\'  2 \" OD x 10 \\'  5 \" T/TINSUL TYPE / PURP / THK: MATERIAL:DESIGN PRESS & TEMP (MAX): DRUM SIZE: 3RD STG. SUC. DAMP.018VES36573SWINGELBOWHC-1.5 \"-EPHC-1.5 \"-EPHC-1.5 \"-EPHC-1.5 \"-EP2\" 3/4\"2\"3/4\". 16FOR LEGEND, SYMBOLS AND GENERAL NOTES SEE P&ID NOS.YC-199989 TO YC-199999.4M 4\\x0c'"
      ]
     },
     "execution_count": 38,
     "metadata": {},
     "output_type": "execute_result"
    }
   ],
   "source": [
    "extract_text_from_pdf('00213193_PDF.pdf')"
   ]
  },
  {
   "cell_type": "code",
   "execution_count": 39,
   "metadata": {},
   "outputs": [],
   "source": [
    "export_as_json('00213193_PDF.pdf', '00213193_PDF.json')"
   ]
  },
  {
   "cell_type": "code",
   "execution_count": null,
   "metadata": {},
   "outputs": [],
   "source": []
  }
 ],
 "metadata": {
  "kernelspec": {
   "display_name": "Python 3",
   "language": "python",
   "name": "python3"
  },
  "language_info": {
   "codemirror_mode": {
    "name": "ipython",
    "version": 3
   },
   "file_extension": ".py",
   "mimetype": "text/x-python",
   "name": "python",
   "nbconvert_exporter": "python",
   "pygments_lexer": "ipython3",
   "version": "3.7.1"
  }
 },
 "nbformat": 4,
 "nbformat_minor": 2
}
