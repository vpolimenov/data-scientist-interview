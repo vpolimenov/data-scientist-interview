{
 "cells": [
  {
   "cell_type": "code",
   "execution_count": 2,
   "metadata": {},
   "outputs": [],
   "source": [
    "import pandas as pd\n",
    "import numpy as np\n",
    "import matplotlib.pyplot as plt\n",
    "from matplotlib.pyplot import rcParams\n",
    "rcParams['figure.figsize'] = 15, 6"
   ]
  },
  {
   "cell_type": "code",
   "execution_count": 35,
   "metadata": {},
   "outputs": [
    {
     "name": "stderr",
     "output_type": "stream",
     "text": [
      "/Users/HOP/anaconda3/lib/python3.7/site-packages/numpy/lib/arraysetops.py:522: FutureWarning: elementwise comparison failed; returning scalar instead, but in the future will perform elementwise comparison\n",
      "  mask |= (ar1 == a)\n"
     ]
    },
    {
     "data": {
      "text/plain": [
       "(1956522, 7)"
      ]
     },
     "execution_count": 35,
     "metadata": {},
     "output_type": "execute_result"
    }
   ],
   "source": [
    "data = pd.read_csv('~/Downloads/Copier.csv', index_col=0)\n",
    "data['count'] = 1\n",
    "data.shape"
   ]
  },
  {
   "cell_type": "code",
   "execution_count": 36,
   "metadata": {},
   "outputs": [
    {
     "data": {
      "text/plain": [
       "SERIAL_NUMBER    object\n",
       "EVENT_DTM        object\n",
       "EVENT_CODE       object\n",
       "SEVERITY         object\n",
       "PRINT_COUNT       int64\n",
       "EVENT_FAMILY      int64\n",
       "count             int64\n",
       "dtype: object"
      ]
     },
     "execution_count": 36,
     "metadata": {},
     "output_type": "execute_result"
    }
   ],
   "source": [
    "data.dtypes"
   ]
  },
  {
   "cell_type": "code",
   "execution_count": 37,
   "metadata": {},
   "outputs": [
    {
     "data": {
      "text/plain": [
       "SERIAL_NUMBER            object\n",
       "EVENT_DTM        datetime64[ns]\n",
       "EVENT_CODE               object\n",
       "SEVERITY                 object\n",
       "PRINT_COUNT               int64\n",
       "EVENT_FAMILY              int64\n",
       "count                     int64\n",
       "dtype: object"
      ]
     },
     "execution_count": 37,
     "metadata": {},
     "output_type": "execute_result"
    }
   ],
   "source": [
    "data['EVENT_DTM'] = pd.to_datetime(data['EVENT_DTM'])\n",
    "data.dtypes"
   ]
  },
  {
   "cell_type": "code",
   "execution_count": 38,
   "metadata": {},
   "outputs": [
    {
     "data": {
      "text/plain": [
       "SERIAL_NUMBER    0\n",
       "EVENT_DTM        0\n",
       "EVENT_CODE       0\n",
       "SEVERITY         0\n",
       "PRINT_COUNT      0\n",
       "EVENT_FAMILY     0\n",
       "count            0\n",
       "dtype: int64"
      ]
     },
     "execution_count": 38,
     "metadata": {},
     "output_type": "execute_result"
    }
   ],
   "source": [
    "data.isnull().sum()"
   ]
  },
  {
   "cell_type": "code",
   "execution_count": 39,
   "metadata": {},
   "outputs": [
    {
     "data": {
      "text/html": [
       "<div>\n",
       "<style scoped>\n",
       "    .dataframe tbody tr th:only-of-type {\n",
       "        vertical-align: middle;\n",
       "    }\n",
       "\n",
       "    .dataframe tbody tr th {\n",
       "        vertical-align: top;\n",
       "    }\n",
       "\n",
       "    .dataframe thead th {\n",
       "        text-align: right;\n",
       "    }\n",
       "</style>\n",
       "<table border=\"1\" class=\"dataframe\">\n",
       "  <thead>\n",
       "    <tr style=\"text-align: right;\">\n",
       "      <th></th>\n",
       "      <th>SERIAL_NUMBER</th>\n",
       "      <th>EVENT_DTM</th>\n",
       "      <th>EVENT_CODE</th>\n",
       "      <th>SEVERITY</th>\n",
       "      <th>PRINT_COUNT</th>\n",
       "      <th>EVENT_FAMILY</th>\n",
       "      <th>count</th>\n",
       "    </tr>\n",
       "  </thead>\n",
       "  <tbody>\n",
       "    <tr>\n",
       "      <th>0</th>\n",
       "      <td>CNBCCCJ1T3</td>\n",
       "      <td>2013-01-01 01:03:55</td>\n",
       "      <td>89.19.5C</td>\n",
       "      <td>ERROR</td>\n",
       "      <td>55564</td>\n",
       "      <td>0</td>\n",
       "      <td>1</td>\n",
       "    </tr>\n",
       "    <tr>\n",
       "      <th>1</th>\n",
       "      <td>CNBCCCJ1VP</td>\n",
       "      <td>2013-01-01 01:18:55</td>\n",
       "      <td>89.19.5C</td>\n",
       "      <td>ERROR</td>\n",
       "      <td>48147</td>\n",
       "      <td>0</td>\n",
       "      <td>1</td>\n",
       "    </tr>\n",
       "    <tr>\n",
       "      <th>2</th>\n",
       "      <td>CNBVCCH2G7</td>\n",
       "      <td>2013-01-01 03:18:31</td>\n",
       "      <td>89.19.5C</td>\n",
       "      <td>ERROR</td>\n",
       "      <td>34844</td>\n",
       "      <td>0</td>\n",
       "      <td>1</td>\n",
       "    </tr>\n",
       "    <tr>\n",
       "      <th>3</th>\n",
       "      <td>CNBCD382GL</td>\n",
       "      <td>2013-01-01 04:36:16</td>\n",
       "      <td>10.00.60</td>\n",
       "      <td>WARNING</td>\n",
       "      <td>11024</td>\n",
       "      <td>0</td>\n",
       "      <td>1</td>\n",
       "    </tr>\n",
       "    <tr>\n",
       "      <th>4</th>\n",
       "      <td>CNBVCCQ1GB</td>\n",
       "      <td>2013-01-01 05:15:06</td>\n",
       "      <td>89.19.5C</td>\n",
       "      <td>ERROR</td>\n",
       "      <td>91211</td>\n",
       "      <td>0</td>\n",
       "      <td>1</td>\n",
       "    </tr>\n",
       "  </tbody>\n",
       "</table>\n",
       "</div>"
      ],
      "text/plain": [
       "  SERIAL_NUMBER           EVENT_DTM EVENT_CODE SEVERITY  PRINT_COUNT  \\\n",
       "0    CNBCCCJ1T3 2013-01-01 01:03:55   89.19.5C    ERROR        55564   \n",
       "1    CNBCCCJ1VP 2013-01-01 01:18:55   89.19.5C    ERROR        48147   \n",
       "2    CNBVCCH2G7 2013-01-01 03:18:31   89.19.5C    ERROR        34844   \n",
       "3    CNBCD382GL 2013-01-01 04:36:16   10.00.60  WARNING        11024   \n",
       "4    CNBVCCQ1GB 2013-01-01 05:15:06   89.19.5C    ERROR        91211   \n",
       "\n",
       "   EVENT_FAMILY  count  \n",
       "0             0      1  \n",
       "1             0      1  \n",
       "2             0      1  \n",
       "3             0      1  \n",
       "4             0      1  "
      ]
     },
     "execution_count": 39,
     "metadata": {},
     "output_type": "execute_result"
    }
   ],
   "source": [
    "data.head()"
   ]
  },
  {
   "cell_type": "markdown",
   "metadata": {},
   "source": [
    "## Number of Unique Copiers"
   ]
  },
  {
   "cell_type": "code",
   "execution_count": 40,
   "metadata": {},
   "outputs": [
    {
     "name": "stdout",
     "output_type": "stream",
     "text": [
      "               count\n",
      "SERIAL_NUMBER       \n",
      "BRBFCC8L11       214\n",
      "BRBFCDLK0D       470\n",
      "BRBFCDLK0G       393\n",
      "BRBFCDLK0J       547\n",
      "BRBFD1CK1G       384\n",
      "\u001b[1mNumber of unique copiers: 10737\n"
     ]
    }
   ],
   "source": [
    "# len(np.unique(data['SERIAL_NUMBER'].values))\n",
    "ser_num_counts = data[['SERIAL_NUMBER', 'count']].groupby(\"SERIAL_NUMBER\").sum()\n",
    "print(ser_num_counts.head())\n",
    "print('\\033[1m' + f'Number of unique copiers: {ser_num_counts.shape[0]}')"
   ]
  },
  {
   "cell_type": "markdown",
   "metadata": {},
   "source": [
    "## Unique warning event codes"
   ]
  },
  {
   "cell_type": "code",
   "execution_count": 41,
   "metadata": {},
   "outputs": [
    {
     "name": "stdout",
     "output_type": "stream",
     "text": [
      "            count\n",
      "EVENT_CODE       \n",
      "10.00.00      898\n",
      "10.00.10    12088\n",
      "10.00.60    90854\n",
      "10.00.70    69753\n",
      "10.26.60     4627\n",
      "\u001b[1mNumber of unique warning event codes: 42\n"
     ]
    }
   ],
   "source": [
    "event_codes_num = data[['EVENT_CODE', 'SEVERITY', 'count']]\n",
    "warn_event_codes = event_codes_num[event_codes_num['SEVERITY']=='WARNING']\n",
    "warn_event_codes_sum = warn_event_codes.groupby('EVENT_CODE').sum()\n",
    "print(warn_event_codes_sum.head())\n",
    "print('\\033[1m' + f'Number of unique warning event codes: {warn_event_codes_sum.shape[0]}')"
   ]
  },
  {
   "cell_type": "markdown",
   "metadata": {},
   "source": [
    "## Total number of event codes generated each month"
   ]
  },
  {
   "cell_type": "code",
   "execution_count": 51,
   "metadata": {},
   "outputs": [
    {
     "name": "stderr",
     "output_type": "stream",
     "text": [
      "/Users/HOP/anaconda3/lib/python3.7/site-packages/ipykernel_launcher.py:3: SettingWithCopyWarning: \n",
      "A value is trying to be set on a copy of a slice from a DataFrame.\n",
      "Try using .loc[row_indexer,col_indexer] = value instead\n",
      "\n",
      "See the caveats in the documentation: http://pandas.pydata.org/pandas-docs/stable/indexing.html#indexing-view-versus-copy\n",
      "  This is separate from the ipykernel package so we can avoid doing imports until\n"
     ]
    },
    {
     "name": "stdout",
     "output_type": "stream",
     "text": [
      "       count\n",
      "month       \n",
      "12     75870\n",
      "10     75549\n",
      "9      72814\n",
      "7      70482\n",
      "11     69909\n"
     ]
    },
    {
     "data": {
      "image/png": "[encoded data removed]",
      "text/plain": [
       "<Figure size 1080x432 with 1 Axes>"
      ]
     },
     "metadata": {
      "needs_background": "light"
     },
     "output_type": "display_data"
    }
   ],
   "source": [
    "event_codes = data[['EVENT_DTM', 'EVENT_CODE', 'count']]\n",
    "event_codes_2015 = event_codes[event_codes['EVENT_DTM'].dt.year == 2015]\n",
    "event_codes_2015['month'] = event_codes_2015['EVENT_DTM'].dt.month\n",
    "event_codes_per_month = event_codes_2015.groupby('month').sum()\n",
    "print(event_codes_per_month.sort_values(by='count', ascending=False).head())\n",
    "event_codes_per_month.plot(kind='bar')\n",
    "plt.show()"
   ]
  },
  {
   "cell_type": "markdown",
   "metadata": {},
   "source": [
    "## Serial number of copiers that generated most events in March"
   ]
  },
  {
   "cell_type": "code",
   "execution_count": 59,
   "metadata": {},
   "outputs": [
    {
     "name": "stdout",
     "output_type": "stream",
     "text": [
      "(231, 1)\n"
     ]
    },
    {
     "data": {
      "text/html": [
       "<div>\n",
       "<style scoped>\n",
       "    .dataframe tbody tr th:only-of-type {\n",
       "        vertical-align: middle;\n",
       "    }\n",
       "\n",
       "    .dataframe tbody tr th {\n",
       "        vertical-align: top;\n",
       "    }\n",
       "\n",
       "    .dataframe thead th {\n",
       "        text-align: right;\n",
       "    }\n",
       "</style>\n",
       "<table border=\"1\" class=\"dataframe\">\n",
       "  <thead>\n",
       "    <tr style=\"text-align: right;\">\n",
       "      <th></th>\n",
       "      <th>count</th>\n",
       "    </tr>\n",
       "    <tr>\n",
       "      <th>EVENT_CODE</th>\n",
       "      <th></th>\n",
       "    </tr>\n",
       "  </thead>\n",
       "  <tbody>\n",
       "    <tr>\n",
       "      <th>13.B2.D1</th>\n",
       "      <td>9566</td>\n",
       "    </tr>\n",
       "    <tr>\n",
       "      <th>13.A2.D2</th>\n",
       "      <td>9378</td>\n",
       "    </tr>\n",
       "    <tr>\n",
       "      <th>41.03.02</th>\n",
       "      <td>5740</td>\n",
       "    </tr>\n",
       "    <tr>\n",
       "      <th>13.B2.D2</th>\n",
       "      <td>5692</td>\n",
       "    </tr>\n",
       "    <tr>\n",
       "      <th>42.B0.01</th>\n",
       "      <td>5591</td>\n",
       "    </tr>\n",
       "  </tbody>\n",
       "</table>\n",
       "</div>"
      ],
      "text/plain": [
       "            count\n",
       "EVENT_CODE       \n",
       "13.B2.D1     9566\n",
       "13.A2.D2     9378\n",
       "41.03.02     5740\n",
       "13.B2.D2     5692\n",
       "42.B0.01     5591"
      ]
     },
     "execution_count": 59,
     "metadata": {},
     "output_type": "execute_result"
    }
   ],
   "source": [
    "ser_num = data[['SERIAL_NUMBER', 'EVENT_DTM', 'EVENT_CODE', 'count']]\n",
    "ser_num_2016 = ser_num[ser_num['EVENT_DTM'].dt.year == 2016]\n",
    "ser_num_2016_march = ser_num_2016[ser_num_2016['EVENT_DTM'].dt.month == 3]\n",
    "ser_num_sum = ser_num_2016_march.groupby(['SERIAL_NUMBER', ]).sum()\n",
    "ser_num_sum_sorted = ser_num_sum.sort_values(by='count', ascending=False)\n",
    "print(ser_num_sum_sorted.shape)\n",
    "ser_num_sum_sorted.head()"
   ]
  },
  {
   "cell_type": "markdown",
   "metadata": {},
   "source": [
    "## Explain why the number of events per month is increasing"
   ]
  },
  {
   "cell_type": "code",
   "execution_count": 73,
   "metadata": {},
   "outputs": [
    {
     "data": {
      "image/png": "[encoded data removed]",
      "text/plain": [
       "<Figure size 1080x432 with 1 Axes>"
      ]
     },
     "metadata": {
      "needs_background": "light"
     },
     "output_type": "display_data"
    }
   ],
   "source": [
    "data['month'] = data['EVENT_DTM'].dt.month\n",
    "data_per_month = data.groupby('month').sum()\n",
    "# data_per_month.head()\n",
    "plt.figure()\n",
    "plt.plot(data_per_month.index, data_per_month['count'], data_per_month.index, data_per_month['PRINT_COUNT']/ 100000)\n",
    "plt.legend(['count_of_events', 'print_counts/100000'])\n",
    "plt.show()"
   ]
  },
  {
   "cell_type": "code",
   "execution_count": null,
   "metadata": {},
   "outputs": [],
   "source": []
  }
 ],
 "metadata": {
  "kernelspec": {
   "display_name": "Python 3",
   "language": "python",
   "name": "python3"
  },
  "language_info": {
   "codemirror_mode": {
    "name": "ipython",
    "version": 3
   },
   "file_extension": ".py",
   "mimetype": "text/x-python",
   "name": "python",
   "nbconvert_exporter": "python",
   "pygments_lexer": "ipython3",
   "version": "3.7.1"
  }
 },
 "nbformat": 4,
 "nbformat_minor": 2
}
